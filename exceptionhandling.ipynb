{
 "cells": [
  {
   "cell_type": "code",
   "execution_count": null,
   "id": "d6c3bff0-999c-4abc-af28-b0b9d5a6640d",
   "metadata": {},
   "outputs": [],
   "source": [
    "#1\n",
    "\"\"\"In Python, an exception is an event that occurs during the execution of a program that disrupts the normal flow of instructions. When an exceptional situation arises, an exception object is created to handle it. Exceptions provide a way to handle errors or exceptional conditions that may occur during program execution.\n",
    "\n",
    "Exceptions are broadly categorized into two types:\n",
    "\n",
    "1. Built-in Exceptions: Python provides a set of built-in exceptions that cover a wide range of error conditions. Examples of built-in exceptions include `TypeError`, `ValueError`, `ZeroDivisionError`, and `FileNotFoundError`, among others. These exceptions are raised automatically when certain error conditions occur.\n",
    "\n",
    "2. User-defined Exceptions: Apart from the built-in exceptions, Python allows you to define your own custom exceptions. You can create your own exception classes by subclassing the built-in `Exception` class or any of its subclasses.\n",
    "\n",
    "Differences between exceptions and errors:\n",
    "\n",
    "1. Syntax Errors: Syntax errors occur when you write code that violates the rules of the Python language. These errors are detected by the Python interpreter during the parsing phase, even before the program starts executing. Syntax errors need to be fixed before the program can run, whereas exceptions occur during program execution.\n",
    "\n",
    "2. Exceptions Handling: Exceptions can be handled using try-except blocks, which allow you to catch and handle specific exceptions that may occur during program execution. On the other hand, syntax errors cannot be caught or handled using try-except blocks since they occur before the program starts running.\n",
    "\n",
    "3. Program Flow: Exceptions disrupt the normal flow of program execution. When an exception occurs, the program stops executing the current code block and jumps to the nearest exception handler. Syntax errors, however, prevent the program from running altogether until they are fixed.\n",
    "\n",
    "4. Error Types: Syntax errors indicate a problem with the code structure or grammar and usually result in a `SyntaxError` being raised. Exceptions, on the other hand, can occur during program execution due to various factors like invalid inputs, arithmetic errors, file access issues, etc., and raise different types of exceptions based on the specific error condition.\n",
    "\n",
    "In summary, exceptions are events that occur during program execution, disrupting the normal flow, while syntax errors are detected by the interpreter before the program starts running and need to be fixed beforehand. Exceptions can be handled using try-except blocks, allowing for graceful error handling and continuation of program execution.\"\"\""
   ]
  },
  {
   "cell_type": "code",
   "execution_count": 5,
   "id": "e431efa7-1cec-4b12-b7d3-8220a247ce50",
   "metadata": {},
   "outputs": [
    {
     "ename": "SyntaxError",
     "evalue": "invalid syntax. Perhaps you forgot a comma? (2142509441.py, line 16)",
     "output_type": "error",
     "traceback": [
      "\u001b[0;36m  Cell \u001b[0;32mIn[5], line 16\u001b[0;36m\u001b[0m\n\u001b[0;31m    Traceback (most recent call last):\u001b[0m\n\u001b[0m               ^\u001b[0m\n\u001b[0;31mSyntaxError\u001b[0m\u001b[0;31m:\u001b[0m invalid syntax. Perhaps you forgot a comma?\n"
     ]
    }
   ],
   "source": [
    "#2\n",
    "#When an exception is not handled in a program, it results in the termination of the program and an error message indicating the unhandled exception. This means that the normal execution flow of the program is interrupted, and the program abruptly stops.\n",
    "\n",
    "#Here's an example to illustrate what happens when an exception is not handled:\n",
    "def divide_numbers(a, b):\n",
    "    result = a / b\n",
    "    return result\n",
    "\n",
    "num1 = 10\n",
    "num2 = 0\n",
    "\n",
    "result = divide_numbers(num1, num2)\n",
    "print(\"The result is:\", result)\n",
    "#In this example, we have a function called divide_numbers that performs division between two numbers. We pass num1 as 10 and num2 as 0, which will result in a ZeroDivisionError since dividing by zero is not allowed.\n",
    "\n",
    "#If the ZeroDivisionError is not handled in the program, the following error message will be displayed:\n",
    "Traceback (most recent call last):\n",
    "  File \"<filename.py>\", line 7, in <module>\n",
    "    result = divide_numbers(num1, num2)\n",
    "  File \"<filename.py>\", line 2, in divide_numbers\n",
    "    result = a / b\n",
    "ZeroDivisionError:  division by zero\n",
    "#To handle this exception we can use a try-except block to catch the ZeroDivisionError and provide an alternative course of action, such as displaying an error message or performing a different calculation. By handling the exception, you can prevent the program from abruptly terminating and continue its execution\"\"\"\n"
   ]
  },
  {
   "cell_type": "code",
   "execution_count": 6,
   "id": "4c81cbad-a830-4e2a-9102-07a6c8ac10ea",
   "metadata": {},
   "outputs": [
    {
     "name": "stdout",
     "output_type": "stream",
     "text": [
      "Error: Division by zero is not allowed.\n"
     ]
    }
   ],
   "source": [
    "#3\n",
    "#In Python, the try and except statements are used to handle exceptions. The try block is used to enclose the code that might raise an exception, and the except block is used to catch and handle specific exceptions that may occur.\n",
    "def divide_numbers(a, b):\n",
    "    try:\n",
    "        result = a / b\n",
    "        print(\"The division result is:\", result)\n",
    "    except ZeroDivisionError:\n",
    "        print(\"Error: Division by zero is not allowed.\")\n",
    "\n",
    "num1 = 10\n",
    "num2 = 0\n",
    "\n",
    "divide_numbers(num1, num2)\n"
   ]
  },
  {
   "cell_type": "code",
   "execution_count": 7,
   "id": "09be16e0-01ac-4f8c-9087-b272387e3b0b",
   "metadata": {},
   "outputs": [
    {
     "name": "stdout",
     "output_type": "stream",
     "text": [
      "The division result is: 5.0\n",
      "Division operation completed successfully.\n",
      "Division operation finished.\n"
     ]
    },
    {
     "data": {
      "text/plain": [
       "'The combination of try, else, finally, and raise statements provides control over the exception handling process, allowing you to handle specific exceptions, execute code when no exception occurs, perform cleanup tasks in the finally block, and raise custom exceptions as needed.'"
      ]
     },
     "execution_count": 7,
     "metadata": {},
     "output_type": "execute_result"
    }
   ],
   "source": [
    "def divide_numbers(a, b):\n",
    "    try:\n",
    "        result = a / b\n",
    "        print(\"The division result is:\", result)\n",
    "    except ZeroDivisionError:\n",
    "        print(\"Error: Division by zero is not allowed.\")\n",
    "        raise ValueError(\"Custom Error: Cannot divide by zero.\")\n",
    "    else:\n",
    "        print(\"Division operation completed successfully.\")\n",
    "    finally:\n",
    "        print(\"Division operation finished.\")\n",
    "\n",
    "num1 = 10\n",
    "num2 = 2\n",
    "\n",
    "divide_numbers(num1, num2)\n",
    "\"\"\"In this example, we have a divide_numbers function that attempts to perform division between two numbers. Let's break down the different parts of the code and the flow of execution:\n",
    "\n",
    "The try block: The division operation result = a / b is performed inside the try block. If no exception occurs, the code inside the try block executes successfully.\n",
    "\n",
    "The except block: If a ZeroDivisionError occurs during the execution of the try block (i.e., when b is zero), the program jumps to the except block. In this case, it prints an error message indicating that division by zero is not allowed. Additionally, we raise a ValueError with a custom error message using the raise statement. This interrupts the normal flow of execution and raises a new exception.\n",
    "\n",
    "The else block: If no exception occurs during the execution of the try block, the program proceeds to the else block. The code inside the else block is executed, in this case, printing a message indicating that the division operation completed successfully.\n",
    "\n",
    "The finally block: After the execution of the try or except block (whichever is applicable), the program enters the finally block. The code inside the finally block is always executed, regardless of whether an exception occurred or not. In this example, it prints a message indicating that the division operation has finished.\"\"\"\n",
    "\"\"\"The combination of try, else, finally, and raise statements provides control over the exception handling process, allowing you to handle specific exceptions, execute code when no exception occurs, perform cleanup tasks in the finally block, and raise custom exceptions as needed.\"\"\""
   ]
  },
  {
   "cell_type": "code",
   "execution_count": 8,
   "id": "3927beab-76c3-4832-b414-6c9aa19e70db",
   "metadata": {},
   "outputs": [
    {
     "name": "stdout",
     "output_type": "stream",
     "text": [
      "Insufficient funds.\n"
     ]
    }
   ],
   "source": [
    "#5\"\"\"In Python, custom exceptions are exceptions that you define yourself by creating new classes that inherit from the built-in Exception class or any of its subclasses. By creating custom exceptions, you can handle specific error conditions that are unique to your program or application.\n",
    "\n",
    "Here are a few reasons why you might need custom exceptions:\n",
    "\n",
    "Specific Error Conditions: Custom exceptions allow you to define and handle specific error conditions that are meaningful within the context of your program. By creating custom exceptions, you can provide more descriptive error messages and handle exceptional situations that are specific to your application's requirements.\n",
    "\n",
    "Code Readability and Maintainability: Custom exceptions can improve the readability and maintainability of your code. By creating well-named custom exceptions, you make your code more self-explanatory and easier to understand for other developers who work on your codebase. Custom exceptions can also help you clearly communicate error scenarios and provide a consistent error-handling approach across your codebase.\n",
    "\n",
    "Exception Hierarchy: Custom exceptions can be organized into an exception hierarchy, where you have a base exception class and derived exception classes that represent different levels of specificity. This hierarchy allows you to catch exceptions at different levels and handle them accordingly. It provides flexibility in distinguishing between different types of errors and allows for more fine-grained exception handling.\"\"\"\n",
    "class WithdrawalError(Exception):\n",
    "    pass\n",
    "\n",
    "class InsufficientFundsError(WithdrawalError):\n",
    "    pass\n",
    "\n",
    "class InvalidAmountError(WithdrawalError):\n",
    "    pass\n",
    "\n",
    "class BankAccount:\n",
    "    def __init__(self, balance):\n",
    "        self.balance = balance\n",
    "\n",
    "    def withdraw(self, amount):\n",
    "        if amount <= 0:\n",
    "            raise InvalidAmountError(\"Invalid withdrawal amount.\")\n",
    "        if amount > self.balance:\n",
    "            raise InsufficientFundsError(\"Insufficient funds.\")\n",
    "        self.balance -= amount\n",
    "        print(\"Withdrawal successful. Remaining balance:\", self.balance)\n",
    "\n",
    "# Usage example\n",
    "account = BankAccount(1000)\n",
    "\n",
    "try:\n",
    "    account.withdraw(1500)\n",
    "except InsufficientFundsError as e:\n",
    "    print(e)\n",
    "except InvalidAmountError as e:\n",
    "    print(e)\n"
   ]
  },
  {
   "cell_type": "code",
   "execution_count": 9,
   "id": "8575a623-0a4c-48f0-8663-3a029aff7d3f",
   "metadata": {},
   "outputs": [
    {
     "name": "stdout",
     "output_type": "stream",
     "text": [
      "Invalid input: Cannot calculate square root of a negative number.\n"
     ]
    }
   ],
   "source": [
    "#6\n",
    "class InvalidInputError(Exception):\n",
    "    pass\n",
    "\n",
    "def square_root(number):\n",
    "    if number < 0:\n",
    "        raise InvalidInputError(\"Invalid input: Cannot calculate square root of a negative number.\")\n",
    "    return number ** 0.5\n",
    "\n",
    "# Usage example\n",
    "try:\n",
    "    result = square_root(-9)\n",
    "except InvalidInputError as e:\n",
    "    print(e)\n"
   ]
  },
  {
   "cell_type": "code",
   "execution_count": null,
   "id": "234c2f7a-1177-40e1-ba05-38da0ef0c521",
   "metadata": {},
   "outputs": [],
   "source": []
  }
 ],
 "metadata": {
  "kernelspec": {
   "display_name": "Python 3 (ipykernel)",
   "language": "python",
   "name": "python3"
  },
  "language_info": {
   "codemirror_mode": {
    "name": "ipython",
    "version": 3
   },
   "file_extension": ".py",
   "mimetype": "text/x-python",
   "name": "python",
   "nbconvert_exporter": "python",
   "pygments_lexer": "ipython3",
   "version": "3.10.8"
  }
 },
 "nbformat": 4,
 "nbformat_minor": 5
}
